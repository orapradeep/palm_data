{
  "nbformat": 4,
  "nbformat_minor": 0,
  "metadata": {
    "colab": {
      "name": "text mining Q3.ipynb",
      "provenance": [],
      "collapsed_sections": []
    },
    "kernelspec": {
      "name": "python3",
      "display_name": "Python 3"
    },
    "language_info": {
      "name": "python"
    }
  },
  "cells": [
    {
      "cell_type": "code",
      "execution_count": null,
      "metadata": {
        "id": "4vcl-s0sC07Z"
      },
      "outputs": [],
      "source": [
        "# Start with importing libraries\n",
        "import re\n",
        "from collections import Counter\n",
        "import pandas as pd\n",
        "import nltk \n",
        "from sklearn.feature_extraction.text import CountVectorizer, TfidfVectorizer \n",
        "from nltk.corpus import stopwords \n",
        "from nltk.tokenize import word_tokenize "
      ]
    },
    {
      "cell_type": "code",
      "source": [
        "given_string = \"As a term, data analytics predominantly refers to an assortment of applications, from basic business \\nintelligence (BI), reporting and online analytical processing (OLAP) to various forms of advanced \\nanalytics. In that sense, it's similar in nature to business analytics, another umbrella term for \\napproaches to analyzing data -- with the difference that the latter is oriented to business uses, while \\ndata analytics has a broader focus. The expansive view of the term isn't universal, though: In some \\ncases, people use data analytics specifically to mean advanced analytics, treating BI as a separate \\ncategory. Data analytics initiatives can help businesses increase revenues, improve operational \\nefficiency, optimize marketing campaigns and customer service efforts, respond more quickly to \\nemerging market trends and gain a competitive edge over rivals -- all with the ultimate goal of \\nboosting business performance. Depending on the particular application, the data that's analyzed \\ncan consist of either historical records or new information that has been processed for real-time \\nanalytics uses. In addition, it can come from a mix of internal systems and external data sources. At \\na high level, data analytics methodologies include exploratory data analysis (EDA), which aims to find \\npatterns and relationships in data, and confirmatory data analysis (CDA), which applies statistical \\ntechniques to determine whether hypotheses about a data set are true or false. EDA is often \\ncompared to detective work, while CDA is akin to the work of a judge or jury during a court trial -- a \\ndistinction first drawn by statistician John W. Tukey in his 1977 book Exploratory Data Analysis. Data \\nanalytics can also be separated into quantitative data analysis and qualitative data analysis. The \\nformer involves analysis of numerical data with quantifiable variables that can be compared or \\nmeasured statistically. The qualitative approach is more interpretive -- it focuses on understanding \\nthe content of non-numerical data like text, images, audio and video, including common phrases, \\nthemes and points of view.\"\n",
        "print(given_string)"
      ],
      "metadata": {
        "colab": {
          "base_uri": "https://localhost:8080/"
        },
        "id": "Nf7qmexOC2R6",
        "outputId": "25c91611-4542-4e9a-acc9-51d2542598ed"
      },
      "execution_count": null,
      "outputs": [
        {
          "output_type": "stream",
          "name": "stdout",
          "text": [
            "As a term, data analytics predominantly refers to an assortment of applications, from basic business \n",
            "intelligence (BI), reporting and online analytical processing (OLAP) to various forms of advanced \n",
            "analytics. In that sense, it's similar in nature to business analytics, another umbrella term for \n",
            "approaches to analyzing data -- with the difference that the latter is oriented to business uses, while \n",
            "data analytics has a broader focus. The expansive view of the term isn't universal, though: In some \n",
            "cases, people use data analytics specifically to mean advanced analytics, treating BI as a separate \n",
            "category. Data analytics initiatives can help businesses increase revenues, improve operational \n",
            "efficiency, optimize marketing campaigns and customer service efforts, respond more quickly to \n",
            "emerging market trends and gain a competitive edge over rivals -- all with the ultimate goal of \n",
            "boosting business performance. Depending on the particular application, the data that's analyzed \n",
            "can consist of either historical records or new information that has been processed for real-time \n",
            "analytics uses. In addition, it can come from a mix of internal systems and external data sources. At \n",
            "a high level, data analytics methodologies include exploratory data analysis (EDA), which aims to find \n",
            "patterns and relationships in data, and confirmatory data analysis (CDA), which applies statistical \n",
            "techniques to determine whether hypotheses about a data set are true or false. EDA is often \n",
            "compared to detective work, while CDA is akin to the work of a judge or jury during a court trial -- a \n",
            "distinction first drawn by statistician John W. Tukey in his 1977 book Exploratory Data Analysis. Data \n",
            "analytics can also be separated into quantitative data analysis and qualitative data analysis. The \n",
            "former involves analysis of numerical data with quantifiable variables that can be compared or \n",
            "measured statistically. The qualitative approach is more interpretive -- it focuses on understanding \n",
            "the content of non-numerical data like text, images, audio and video, including common phrases, \n",
            "themes and points of view.\n"
          ]
        }
      ]
    },
    {
      "cell_type": "code",
      "source": [
        "given_string = given_string.lower()\n",
        "line_list = given_string.splitlines()#Return a list of the lines in the string, breaking at line boundaries. \n",
        "nlines = len(line_list)\n",
        "nlines"
      ],
      "metadata": {
        "colab": {
          "base_uri": "https://localhost:8080/"
        },
        "id": "SEq8I22VC4CQ",
        "outputId": "8d12b525-f748-498b-c28f-abd4becd38bb"
      },
      "execution_count": null,
      "outputs": [
        {
          "output_type": "execute_result",
          "data": {
            "text/plain": [
              "22"
            ]
          },
          "metadata": {},
          "execution_count": 4
        }
      ]
    },
    {
      "cell_type": "code",
      "source": [
        "def tokenize(string):\n",
        "    return re.compile('\\w+').findall(string) #compiling a regular expression, then using it to search for \n",
        "                                              #text that matches that regular expression\n",
        "\n",
        "def word_freq(string): \n",
        "    text = tokenize(string.lower()) #tokenizes and stores\n",
        "    c = Counter(text)           # count the words\n",
        "    d = Counter(''.join(text))  # count all letters\n",
        "    return (dict(c))    # return a tuple of counted words and letters\n",
        "\n",
        "def return_word_freq(string): \n",
        "    text = tokenize(string.lower())\n",
        "    c = Counter(text)           # count the words in the string\n",
        "    d = Counter(''.join(text))  # count all letters in the string\n",
        "    return (dict(c), dict(d))    # return a tuple of counted words and letters(all) counts together\n",
        "\n",
        "words = word_freq(given_string) \n",
        "words_, letters = return_word_freq(given_string)\n",
        "\n",
        "sumWords = sum(words.values())       # sum total words in string\n",
        "sumLetters = sum(letters.values())   # sum total letters in string"
      ],
      "metadata": {
        "id": "sbEXlMdjDBP0"
      },
      "execution_count": null,
      "outputs": []
    },
    {
      "cell_type": "code",
      "source": [
        "#testing\n",
        "test=\"the content of non-numerical data like text, images, audio and video, including common phrases\"\n",
        "print(word_freq(test))\n",
        "print(return_word_freq(test))\n"
      ],
      "metadata": {
        "colab": {
          "base_uri": "https://localhost:8080/"
        },
        "id": "YnxV5OyTBdSX",
        "outputId": "46d68950-a71d-493c-ecf0-e6160241ffa3"
      },
      "execution_count": null,
      "outputs": [
        {
          "output_type": "stream",
          "name": "stdout",
          "text": [
            "{'the': 1, 'content': 1, 'of': 1, 'non': 1, 'numerical': 1, 'data': 1, 'like': 1, 'text': 1, 'images': 1, 'audio': 1, 'and': 1, 'video': 1, 'including': 1, 'common': 1, 'phrases': 1}\n",
            "({'the': 1, 'content': 1, 'of': 1, 'non': 1, 'numerical': 1, 'data': 1, 'like': 1, 'text': 1, 'images': 1, 'audio': 1, 'and': 1, 'video': 1, 'including': 1, 'common': 1, 'phrases': 1}, {'t': 6, 'h': 2, 'e': 8, 'c': 4, 'o': 7, 'n': 9, 'f': 1, 'u': 3, 'm': 4, 'r': 2, 'i': 7, 'a': 7, 'l': 3, 'd': 5, 'k': 1, 'x': 1, 'g': 2, 's': 3, 'v': 1, 'p': 1})\n"
          ]
        }
      ]
    },
    {
      "cell_type": "code",
      "source": [
        "len(words)"
      ],
      "metadata": {
        "colab": {
          "base_uri": "https://localhost:8080/"
        },
        "id": "Qw2mlsPMDD4v",
        "outputId": "f9977624-f199-4ebf-bea3-b05d27f719c9"
      },
      "execution_count": null,
      "outputs": [
        {
          "output_type": "execute_result",
          "data": {
            "text/plain": [
              "194"
            ]
          },
          "metadata": {},
          "execution_count": 9
        }
      ]
    },
    {
      "cell_type": "code",
      "source": [
        "{key:value for (key,value) in words.items() if value>8 } #gets words which are more than 8 in freq"
      ],
      "metadata": {
        "colab": {
          "base_uri": "https://localhost:8080/"
        },
        "id": "krRyLnTbDFEm",
        "outputId": "1f44b0c8-899c-46b6-b27c-a3d11c56c795"
      },
      "execution_count": null,
      "outputs": [
        {
          "output_type": "execute_result",
          "data": {
            "text/plain": [
              "{'a': 10, 'analytics': 10, 'and': 9, 'data': 18, 'of': 10, 'the': 11, 'to': 11}"
            ]
          },
          "metadata": {},
          "execution_count": 10
        }
      ]
    },
    {
      "cell_type": "markdown",
      "source": [
        "#Q1 Probability of the word “data” occurring in each line"
      ],
      "metadata": {
        "id": "OP3kAkKvLmNf"
      }
    },
    {
      "cell_type": "code",
      "source": [
        "data_count = words['data'] #coutn \"data\" word in the string\n"
      ],
      "metadata": {
        "id": "k8i0T_bODJJI"
      },
      "execution_count": null,
      "outputs": []
    },
    {
      "cell_type": "code",
      "source": [
        "# The probability of an event A is the number of ways event A can occur divided by the total number of possible outcomes.\n",
        "probablity_data_in_each_line = data_count/nlines"
      ],
      "metadata": {
        "id": "Ajn2LRaCDKTr"
      },
      "execution_count": null,
      "outputs": []
    },
    {
      "cell_type": "code",
      "source": [
        "probablity_data_in_each_line"
      ],
      "metadata": {
        "colab": {
          "base_uri": "https://localhost:8080/"
        },
        "id": "XOh7b2BaDLXI",
        "outputId": "8b359a69-21f5-4041-d7b4-ccba0bbbf3f9"
      },
      "execution_count": null,
      "outputs": [
        {
          "output_type": "execute_result",
          "data": {
            "text/plain": [
              "0.8181818181818182"
            ]
          },
          "metadata": {},
          "execution_count": 13
        }
      ]
    },
    {
      "cell_type": "markdown",
      "source": [
        "# Q2 distribution of distinct word counts across all the lines\n",
        "- We shall first find out the distinct word counts in every line,\n",
        "- Create the distribution plot."
      ],
      "metadata": {
        "id": "luM6a-WBDciW"
      }
    },
    {
      "cell_type": "code",
      "source": [
        "distinct_counts = []\n",
        "for i in line_list:\n",
        "    distinct_counts.append(len(word_freq(i)))"
      ],
      "metadata": {
        "id": "o2Xkzbo8DdEe"
      },
      "execution_count": null,
      "outputs": []
    },
    {
      "cell_type": "code",
      "source": [
        "df_distinct_counts = pd.DataFrame(distinct_counts)\n",
        "df_distinct_counts.rename(columns={0: \"Distinct_Words\"})"
      ],
      "metadata": {
        "id": "dMoudkh5DiOi"
      },
      "execution_count": null,
      "outputs": []
    },
    {
      "cell_type": "code",
      "source": [
        "import seaborn as sns\n",
        "sns.distplot(df_distinct_counts, kde=True, rug=True,color='red');"
      ],
      "metadata": {
        "id": "BD_vfYuDDnac",
        "colab": {
          "base_uri": "https://localhost:8080/",
          "height": 360
        },
        "outputId": "cd980ae5-d286-4a06-a9b9-ec2d329565da"
      },
      "execution_count": null,
      "outputs": [
        {
          "output_type": "stream",
          "name": "stderr",
          "text": [
            "/usr/local/lib/python3.7/dist-packages/seaborn/distributions.py:2619: FutureWarning: `distplot` is a deprecated function and will be removed in a future version. Please adapt your code to use either `displot` (a figure-level function with similar flexibility) or `histplot` (an axes-level function for histograms).\n",
            "  warnings.warn(msg, FutureWarning)\n",
            "/usr/local/lib/python3.7/dist-packages/seaborn/distributions.py:2103: FutureWarning: The `axis` variable is no longer used and will be removed. Instead, assign variables directly to `x` or `y`.\n",
            "  warnings.warn(msg, FutureWarning)\n"
          ]
        },
        {
          "output_type": "display_data",
          "data": {
            "image/png": "[encoded data removed]",
            "text/plain": [
              "<Figure size 432x288 with 1 Axes>"
            ]
          },
          "metadata": {
            "needs_background": "light"
          }
        }
      ]
    },
    {
      "cell_type": "markdown",
      "source": [
        "#Calc probability of the word “analytics” occurring after the word “data” ?\n",
        "- Lets create the bigrams,\n",
        "- find \"data analytics\" joint occurance coutn and only \"analytics\" counts\n",
        "- Calculate the probability by dividing them."
      ],
      "metadata": {
        "id": "C9QuhEYLDy5s"
      }
    },
    {
      "cell_type": "code",
      "source": [
        "import nltk \n",
        "import re \n",
        "from sklearn.feature_extraction.text import CountVectorizer, TfidfVectorizer \n",
        "from nltk.corpus import stopwords \n",
        "from nltk.tokenize import word_tokenize \n",
        "import pandas as pd \n"
      ],
      "metadata": {
        "id": "ydvsopwdDsWL"
      },
      "execution_count": null,
      "outputs": []
    },
    {
      "cell_type": "code",
      "source": [
        "#count(w2 w1) / count(w2) which is the number of times the words occurs in the required\n",
        "#sequence, divided by the number of the times the word before the expected word occurs in the corpus.\n",
        "import re\n",
        "from collections import Counter\n",
        "bigramwords = re.findall('\\w+', given_string)\n",
        "bigram_counts = Counter(zip(bigramwords,bigramwords[1:]))\n",
        "data_analytics_count = bigram_counts[(\"data\", \"analytics\")]\n",
        "analytics_count = words['analytics'] #count of \"Analytics\" word in the string\n",
        "print(f\"Number of times data analytics appear together: {data_analytics_count}\")\n",
        "print(f\"Number of times only analytics appear in complete text: {analytics_count}\")"
      ],
      "metadata": {
        "colab": {
          "base_uri": "https://localhost:8080/"
        },
        "id": "r8Fq9gKeDv8_",
        "outputId": "f370bccf-00f3-4890-f329-dcf220a51f41"
      },
      "execution_count": null,
      "outputs": [
        {
          "output_type": "stream",
          "name": "stdout",
          "text": [
            "Number of times data analytics appear together: 6\n",
            "Number of times only analytics appear in complete text: 10\n"
          ]
        }
      ]
    },
    {
      "cell_type": "code",
      "source": [
        "print(f\"Probablity of analytics appearing after data: {data_analytics_count/analytics_count}\")"
      ],
      "metadata": {
        "colab": {
          "base_uri": "https://localhost:8080/"
        },
        "id": "ETlo6Dl1D-JP",
        "outputId": "8cf882bd-149d-4b07-8e89-fa6e39f02b41"
      },
      "execution_count": null,
      "outputs": [
        {
          "output_type": "stream",
          "name": "stdout",
          "text": [
            "Probablity of analytics appearing after data: 0.6\n"
          ]
        }
      ]
    },
    {
      "cell_type": "code",
      "source": [
        ""
      ],
      "metadata": {
        "id": "ygfGgMAwEBAI"
      },
      "execution_count": null,
      "outputs": []
    }
  ]
}